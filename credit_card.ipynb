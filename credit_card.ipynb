{
  "nbformat": 4,
  "nbformat_minor": 0,
  "metadata": {
    "colab": {
      "name": "credit-card.ipynb",
      "provenance": []
    },
    "kernelspec": {
      "name": "python3",
      "display_name": "Python 3"
    },
    "language_info": {
      "name": "python"
    }
  },
  "cells": [
    {
      "cell_type": "code",
      "execution_count": null,
      "metadata": {
        "id": "y3b1pfk-MxtI"
      },
      "outputs": [],
      "source": [
        "import numpy as np\n",
        "import pandas as pd\n",
        "import matplotlib.pyplot as plt\n",
        "import seaborn as sns\n",
        "from sklearn.model_selection import train_test_split\n",
        "from sklearn.preprocessing import MinMaxScaler\n",
        "from collections import Counter\n",
        "from sklearn import metrics\n",
        "import torch\n",
        "import torch.nn as nn\n",
        "from sklearn.preprocessing import StandardScaler\n",
        "from torch.utils.data import TensorDataset, DataLoader\n",
        "from tqdm import tqdm\n",
        "from torchsummary import summary\n"
      ]
    },
    {
      "cell_type": "code",
      "source": [
        "data = pd.read_csv('CreditCardDataset.csv')\n",
        "plt.hist(data['Class'], color='red')\n",
        "plt.xlabel('Class')\n",
        "plt.ylabel('Transaction')\n",
        "plt.title('Class Imbalance', fontsize=15)"
      ],
      "metadata": {
        "colab": {
          "base_uri": "https://localhost:8080/",
          "height": 314
        },
        "id": "NALNa6lpNSVe",
        "outputId": "4533d0b2-82ce-43c8-ec44-eb6a64061f08"
      },
      "execution_count": null,
      "outputs": [
        {
          "output_type": "execute_result",
          "data": {
            "text/plain": [
              "Text(0.5, 1.0, 'Class Imbalance')"
            ]
          },
          "metadata": {},
          "execution_count": 2
        },
        {
          "output_type": "display_data",
          "data": {
            "text/plain": [
              "<Figure size 432x288 with 1 Axes>"
            ],
            "image/png": "[encoded data removed]"
          },
          "metadata": {
            "needs_background": "light"
          }
        }
      ]
    },
    {
      "cell_type": "markdown",
      "source": [
        "It can be observed that there's a hug imbalance in the data and hence the model can be biased."
      ],
      "metadata": {
        "id": "EtODpT7yRe1X"
      }
    },
    {
      "cell_type": "code",
      "source": [
        "data.head()"
      ],
      "metadata": {
        "colab": {
          "base_uri": "https://localhost:8080/",
          "height": 299
        },
        "id": "bVU5gHxHPK5H",
        "outputId": "f5862668-25a0-44b1-eb74-9130c188230e"
      },
      "execution_count": null,
      "outputs": [
        {
          "output_type": "execute_result",
          "data": {
            "text/plain": [
              "   Time        V1        V2        V3        V4        V5        V6        V7  \\\n",
              "0     2 -1.158233  0.877737  1.548718  0.403034 -0.407193  0.095921  0.592941   \n",
              "1     2 -0.425966  0.960523  1.141109 -0.168252  0.420987 -0.029728  0.476201   \n",
              "2     7 -0.644269  1.417964  1.074380 -0.492199  0.948934  0.428118  1.120631   \n",
              "3    11  1.069374  0.287722  0.828613  2.712520 -0.178398  0.337544 -0.096717   \n",
              "4    12 -0.752417  0.345485  2.057323 -1.468643 -1.158394 -0.077850 -0.608581   \n",
              "\n",
              "         V8        V9  ...       V21       V22       V23       V24       V25  \\\n",
              "0 -0.270533  0.817739  ... -0.009431  0.798278 -0.137458  0.141267 -0.206010   \n",
              "1  0.260314 -0.568671  ... -0.208254 -0.559825 -0.026398 -0.371427 -0.232794   \n",
              "2 -3.807864  0.615375  ...  1.943465 -1.015455  0.057504 -0.649709 -0.415267   \n",
              "3  0.115982 -0.221083  ... -0.036876  0.074412 -0.071407  0.104744  0.548265   \n",
              "4  0.003603 -0.436167  ...  0.499625  1.353650 -0.256573 -0.065084 -0.039124   \n",
              "\n",
              "        V26       V27       V28  Amount  Class  \n",
              "0  0.502292  0.219422  0.215153   69.99      0  \n",
              "1  0.105915  0.253844  0.081080    3.67      0  \n",
              "2 -0.051634 -1.206921 -1.085339   40.80      0  \n",
              "3  0.104094  0.021491  0.021293   27.50      0  \n",
              "4 -0.087086 -0.180998  0.129394   15.99      0  \n",
              "\n",
              "[5 rows x 31 columns]"
            ],
            "text/html": [
              "\n",
              "  <div id=\"df-4c6c90c6-0a32-4274-8769-c4380251ef17\">\n",
              "    <div class=\"colab-df-container\">\n",
              "      <div>\n",
              "<style scoped>\n",
              "    .dataframe tbody tr th:only-of-type {\n",
              "        vertical-align: middle;\n",
              "    }\n",
              "\n",
              "    .dataframe tbody tr th {\n",
              "        vertical-align: top;\n",
              "    }\n",
              "\n",
              "    .dataframe thead th {\n",
              "        text-align: right;\n",
              "    }\n",
              "</style>\n",
              "<table border=\"1\" class=\"dataframe\">\n",
              "  <thead>\n",
              "    <tr style=\"text-align: right;\">\n",
              "      <th></th>\n",
              "      <th>Time</th>\n",
              "      <th>V1</th>\n",
              "      <th>V2</th>\n",
              "      <th>V3</th>\n",
              "      <th>V4</th>\n",
              "      <th>V5</th>\n",
              "      <th>V6</th>\n",
              "      <th>V7</th>\n",
              "      <th>V8</th>\n",
              "      <th>V9</th>\n",
              "      <th>...</th>\n",
              "      <th>V21</th>\n",
              "      <th>V22</th>\n",
              "      <th>V23</th>\n",
              "      <th>V24</th>\n",
              "      <th>V25</th>\n",
              "      <th>V26</th>\n",
              "      <th>V27</th>\n",
              "      <th>V28</th>\n",
              "      <th>Amount</th>\n",
              "      <th>Class</th>\n",
              "    </tr>\n",
              "  </thead>\n",
              "  <tbody>\n",
              "    <tr>\n",
              "      <th>0</th>\n",
              "      <td>2</td>\n",
              "      <td>-1.158233</td>\n",
              "      <td>0.877737</td>\n",
              "      <td>1.548718</td>\n",
              "      <td>0.403034</td>\n",
              "      <td>-0.407193</td>\n",
              "      <td>0.095921</td>\n",
              "      <td>0.592941</td>\n",
              "      <td>-0.270533</td>\n",
              "      <td>0.817739</td>\n",
              "      <td>...</td>\n",
              "      <td>-0.009431</td>\n",
              "      <td>0.798278</td>\n",
              "      <td>-0.137458</td>\n",
              "      <td>0.141267</td>\n",
              "      <td>-0.206010</td>\n",
              "      <td>0.502292</td>\n",
              "      <td>0.219422</td>\n",
              "      <td>0.215153</td>\n",
              "      <td>69.99</td>\n",
              "      <td>0</td>\n",
              "    </tr>\n",
              "    <tr>\n",
              "      <th>1</th>\n",
              "      <td>2</td>\n",
              "      <td>-0.425966</td>\n",
              "      <td>0.960523</td>\n",
              "      <td>1.141109</td>\n",
              "      <td>-0.168252</td>\n",
              "      <td>0.420987</td>\n",
              "      <td>-0.029728</td>\n",
              "      <td>0.476201</td>\n",
              "      <td>0.260314</td>\n",
              "      <td>-0.568671</td>\n",
              "      <td>...</td>\n",
              "      <td>-0.208254</td>\n",
              "      <td>-0.559825</td>\n",
              "      <td>-0.026398</td>\n",
              "      <td>-0.371427</td>\n",
              "      <td>-0.232794</td>\n",
              "      <td>0.105915</td>\n",
              "      <td>0.253844</td>\n",
              "      <td>0.081080</td>\n",
              "      <td>3.67</td>\n",
              "      <td>0</td>\n",
              "    </tr>\n",
              "    <tr>\n",
              "      <th>2</th>\n",
              "      <td>7</td>\n",
              "      <td>-0.644269</td>\n",
              "      <td>1.417964</td>\n",
              "      <td>1.074380</td>\n",
              "      <td>-0.492199</td>\n",
              "      <td>0.948934</td>\n",
              "      <td>0.428118</td>\n",
              "      <td>1.120631</td>\n",
              "      <td>-3.807864</td>\n",
              "      <td>0.615375</td>\n",
              "      <td>...</td>\n",
              "      <td>1.943465</td>\n",
              "      <td>-1.015455</td>\n",
              "      <td>0.057504</td>\n",
              "      <td>-0.649709</td>\n",
              "      <td>-0.415267</td>\n",
              "      <td>-0.051634</td>\n",
              "      <td>-1.206921</td>\n",
              "      <td>-1.085339</td>\n",
              "      <td>40.80</td>\n",
              "      <td>0</td>\n",
              "    </tr>\n",
              "    <tr>\n",
              "      <th>3</th>\n",
              "      <td>11</td>\n",
              "      <td>1.069374</td>\n",
              "      <td>0.287722</td>\n",
              "      <td>0.828613</td>\n",
              "      <td>2.712520</td>\n",
              "      <td>-0.178398</td>\n",
              "      <td>0.337544</td>\n",
              "      <td>-0.096717</td>\n",
              "      <td>0.115982</td>\n",
              "      <td>-0.221083</td>\n",
              "      <td>...</td>\n",
              "      <td>-0.036876</td>\n",
              "      <td>0.074412</td>\n",
              "      <td>-0.071407</td>\n",
              "      <td>0.104744</td>\n",
              "      <td>0.548265</td>\n",
              "      <td>0.104094</td>\n",
              "      <td>0.021491</td>\n",
              "      <td>0.021293</td>\n",
              "      <td>27.50</td>\n",
              "      <td>0</td>\n",
              "    </tr>\n",
              "    <tr>\n",
              "      <th>4</th>\n",
              "      <td>12</td>\n",
              "      <td>-0.752417</td>\n",
              "      <td>0.345485</td>\n",
              "      <td>2.057323</td>\n",
              "      <td>-1.468643</td>\n",
              "      <td>-1.158394</td>\n",
              "      <td>-0.077850</td>\n",
              "      <td>-0.608581</td>\n",
              "      <td>0.003603</td>\n",
              "      <td>-0.436167</td>\n",
              "      <td>...</td>\n",
              "      <td>0.499625</td>\n",
              "      <td>1.353650</td>\n",
              "      <td>-0.256573</td>\n",
              "      <td>-0.065084</td>\n",
              "      <td>-0.039124</td>\n",
              "      <td>-0.087086</td>\n",
              "      <td>-0.180998</td>\n",
              "      <td>0.129394</td>\n",
              "      <td>15.99</td>\n",
              "      <td>0</td>\n",
              "    </tr>\n",
              "  </tbody>\n",
              "</table>\n",
              "<p>5 rows × 31 columns</p>\n",
              "</div>\n",
              "      <button class=\"colab-df-convert\" onclick=\"convertToInteractive('df-4c6c90c6-0a32-4274-8769-c4380251ef17')\"\n",
              "              title=\"Convert this dataframe to an interactive table.\"\n",
              "              style=\"display:none;\">\n",
              "        \n",
              "  <svg xmlns=\"http://www.w3.org/2000/svg\" height=\"24px\"viewBox=\"0 0 24 24\"\n",
              "       width=\"24px\">\n",
              "    <path d=\"M0 0h24v24H0V0z\" fill=\"none\"/>\n",
              "    <path d=\"M18.56 5.44l.94 2.06.94-2.06 2.06-.94-2.06-.94-.94-2.06-.94 2.06-2.06.94zm-11 1L8.5 8.5l.94-2.06 2.06-.94-2.06-.94L8.5 2.5l-.94 2.06-2.06.94zm10 10l.94 2.06.94-2.06 2.06-.94-2.06-.94-.94-2.06-.94 2.06-2.06.94z\"/><path d=\"M17.41 7.96l-1.37-1.37c-.4-.4-.92-.59-1.43-.59-.52 0-1.04.2-1.43.59L10.3 9.45l-7.72 7.72c-.78.78-.78 2.05 0 2.83L4 21.41c.39.39.9.59 1.41.59.51 0 1.02-.2 1.41-.59l7.78-7.78 2.81-2.81c.8-.78.8-2.07 0-2.86zM5.41 20L4 18.59l7.72-7.72 1.47 1.35L5.41 20z\"/>\n",
              "  </svg>\n",
              "      </button>\n",
              "      \n",
              "  <style>\n",
              "    .colab-df-container {\n",
              "      display:flex;\n",
              "      flex-wrap:wrap;\n",
              "      gap: 12px;\n",
              "    }\n",
              "\n",
              "    .colab-df-convert {\n",
              "      background-color: #E8F0FE;\n",
              "      border: none;\n",
              "      border-radius: 50%;\n",
              "      cursor: pointer;\n",
              "      display: none;\n",
              "      fill: #1967D2;\n",
              "      height: 32px;\n",
              "      padding: 0 0 0 0;\n",
              "      width: 32px;\n",
              "    }\n",
              "\n",
              "    .colab-df-convert:hover {\n",
              "      background-color: #E2EBFA;\n",
              "      box-shadow: 0px 1px 2px rgba(60, 64, 67, 0.3), 0px 1px 3px 1px rgba(60, 64, 67, 0.15);\n",
              "      fill: #174EA6;\n",
              "    }\n",
              "\n",
              "    [theme=dark] .colab-df-convert {\n",
              "      background-color: #3B4455;\n",
              "      fill: #D2E3FC;\n",
              "    }\n",
              "\n",
              "    [theme=dark] .colab-df-convert:hover {\n",
              "      background-color: #434B5C;\n",
              "      box-shadow: 0px 1px 3px 1px rgba(0, 0, 0, 0.15);\n",
              "      filter: drop-shadow(0px 1px 2px rgba(0, 0, 0, 0.3));\n",
              "      fill: #FFFFFF;\n",
              "    }\n",
              "  </style>\n",
              "\n",
              "      <script>\n",
              "        const buttonEl =\n",
              "          document.querySelector('#df-4c6c90c6-0a32-4274-8769-c4380251ef17 button.colab-df-convert');\n",
              "        buttonEl.style.display =\n",
              "          google.colab.kernel.accessAllowed ? 'block' : 'none';\n",
              "\n",
              "        async function convertToInteractive(key) {\n",
              "          const element = document.querySelector('#df-4c6c90c6-0a32-4274-8769-c4380251ef17');\n",
              "          const dataTable =\n",
              "            await google.colab.kernel.invokeFunction('convertToInteractive',\n",
              "                                                     [key], {});\n",
              "          if (!dataTable) return;\n",
              "\n",
              "          const docLinkHtml = 'Like what you see? Visit the ' +\n",
              "            '<a target=\"_blank\" href=https://colab.research.google.com/notebooks/data_table.ipynb>data table notebook</a>'\n",
              "            + ' to learn more about interactive tables.';\n",
              "          element.innerHTML = '';\n",
              "          dataTable['output_type'] = 'display_data';\n",
              "          await google.colab.output.renderOutput(dataTable, element);\n",
              "          const docLink = document.createElement('div');\n",
              "          docLink.innerHTML = docLinkHtml;\n",
              "          element.appendChild(docLink);\n",
              "        }\n",
              "      </script>\n",
              "    </div>\n",
              "  </div>\n",
              "  "
            ]
          },
          "metadata": {},
          "execution_count": 3
        }
      ]
    },
    {
      "cell_type": "code",
      "source": [
        "#Amount per transaction\n",
        "sns.scatterplot(data=data.reset_index(), x=\"index\", y=\"Amount\", hue=\"Class\", cmap=\"YlGnBu\").set(title=\"Amount per transaction\")\n",
        "plt.show()"
      ],
      "metadata": {
        "colab": {
          "base_uri": "https://localhost:8080/",
          "height": 295
        },
        "id": "FMUIv5Jan_8x",
        "outputId": "21a77ce4-f8e4-4c03-9c18-9c4f8a91be4a"
      },
      "execution_count": null,
      "outputs": [
        {
          "output_type": "display_data",
          "data": {
            "text/plain": [
              "<Figure size 432x288 with 1 Axes>"
            ],
            "image/png": "[encoded data removed]"
          },
          "metadata": {
            "needs_background": "light"
          }
        }
      ]
    },
    {
      "cell_type": "markdown",
      "source": [
        "# It is observed that fraud transactions do not tend to have a large amount of cash per transaction"
      ],
      "metadata": {
        "id": "z6ZAuf8PslIv"
      }
    },
    {
      "cell_type": "code",
      "source": [
        "#correlation matrix\n",
        "%matplotlib inline\n",
        "plt.figure(figsize = (10,10))\n",
        "sns.heatmap(data.corr(),cmap='rainbow')\n",
        "plt.show()"
      ],
      "metadata": {
        "colab": {
          "base_uri": "https://localhost:8080/",
          "height": 625
        },
        "id": "R_gvEfq9Hdaw",
        "outputId": "f69429d9-a32d-4ab3-d0fe-012edb593699"
      },
      "execution_count": null,
      "outputs": [
        {
          "output_type": "display_data",
          "data": {
            "text/plain": [
              "<Figure size 720x720 with 2 Axes>"
            ],
            "image/png": "[encoded data removed]"
          },
          "metadata": {
            "needs_background": "light"
          }
        }
      ]
    },
    {
      "cell_type": "code",
      "source": [
        "#Some stats for positive as well as negative transactions\n",
        "\n",
        "for i, word in zip(range(2), [\"Positive\", \"Negative\"]):\n",
        "    print(\"{0} transactions\".format(word))\n",
        "    print(data[data[\"Class\"] == i][\"Amount\"].describe(), \"\\n\")"
      ],
      "metadata": {
        "colab": {
          "base_uri": "https://localhost:8080/"
        },
        "id": "aUfEX64YyB3z",
        "outputId": "8bd7ca2b-360e-4482-b026-597b83ff7786"
      },
      "execution_count": null,
      "outputs": [
        {
          "output_type": "stream",
          "name": "stdout",
          "text": [
            "Positive transactions\n",
            "count    56863.000000\n",
            "mean        88.536709\n",
            "std        279.670869\n",
            "min          0.000000\n",
            "25%          5.540000\n",
            "50%         22.000000\n",
            "75%         76.230000\n",
            "max      25691.160000\n",
            "Name: Amount, dtype: float64 \n",
            "\n",
            "Negative transactions\n",
            "count     492.000000\n",
            "mean      122.211321\n",
            "std       256.683288\n",
            "min         0.000000\n",
            "25%         1.000000\n",
            "50%         9.250000\n",
            "75%       105.890000\n",
            "max      2125.870000\n",
            "Name: Amount, dtype: float64 \n",
            "\n"
          ]
        }
      ]
    },
    {
      "cell_type": "code",
      "source": [
        "x = data.drop(\"Class\", axis=1)\n",
        "y = data[\"Class\"]"
      ],
      "metadata": {
        "id": "QzAgsC_g1tMP"
      },
      "execution_count": null,
      "outputs": []
    },
    {
      "cell_type": "code",
      "source": [
        "#scaling the values\n",
        "\n",
        "scale = StandardScaler()\n",
        "scale.fit(x)\n",
        "x = scale.transform(x)"
      ],
      "metadata": {
        "id": "-vhldOOO3YAJ"
      },
      "execution_count": null,
      "outputs": []
    },
    {
      "cell_type": "code",
      "source": [
        "# splitting data into training, testing and validation\n",
        "x_train, x_test, y_train, y_test = train_test_split(x, y, test_size=0.45, stratify=y)\n",
        "pointer = int(0.55*len(x_test))\n",
        "x_val, x_test, y_val, y_test = x_test[pointer:], x_test[:pointer], y_test[pointer:], y_test[:pointer]"
      ],
      "metadata": {
        "id": "IsPSgWVG9WU7"
      },
      "execution_count": null,
      "outputs": []
    },
    {
      "cell_type": "code",
      "source": [
        "x_train.shape, x_test.shape, y_train.shape, y_test.shape, x_val.shape, y_val.shape"
      ],
      "metadata": {
        "colab": {
          "base_uri": "https://localhost:8080/"
        },
        "id": "-xnPLwtNLXHS",
        "outputId": "d0010cc1-25d6-42ec-d172-32146f5446b7"
      },
      "execution_count": null,
      "outputs": [
        {
          "output_type": "execute_result",
          "data": {
            "text/plain": [
              "((31545, 30), (14195, 30), (31545,), (14195,), (11615, 30), (11615,))"
            ]
          },
          "metadata": {},
          "execution_count": 10
        }
      ]
    },
    {
      "cell_type": "code",
      "source": [
        "#Creating torch tensors from our dataset\n",
        "\n",
        "x_train = torch.FloatTensor(x_train)\n",
        "x_test = torch.FloatTensor(x_test)\n",
        "y_train = torch.FloatTensor(y_train.values)\n",
        "y_test = torch.FloatTensor(y_test.values)\n",
        "x_val = torch.FloatTensor(x_val)\n",
        "y_val = torch.FloatTensor(y_val.values)\n",
        "train_dataset = TensorDataset(x_train, y_train)\n",
        "valid_dataset = TensorDataset(x_val, y_val)"
      ],
      "metadata": {
        "id": "9V4IYYEC_RUl"
      },
      "execution_count": null,
      "outputs": []
    },
    {
      "cell_type": "code",
      "source": [
        "batch_size = 128\n",
        "train_dataloaders = DataLoader(train_dataset, batch_size=batch_size)\n",
        "validloader = DataLoader(valid_dataset, batch_size=batch_size)"
      ],
      "metadata": {
        "id": "aDOpd9kR_mvr"
      },
      "execution_count": null,
      "outputs": []
    },
    {
      "cell_type": "code",
      "source": [
        "class NeuralNet(nn.Module):\n",
        "    def __init__(self, input_dim, hidden_dim, num_layers=4):\n",
        "        super().__init__()\n",
        "        self.input = nn.Sequential(\n",
        "            nn.Linear(input_dim, hidden_dim),\n",
        "            nn.ReLU()\n",
        "        )\n",
        "\n",
        "        self.layers = nn.ModuleList()\n",
        "        for i in range(num_layers):\n",
        "            self.layers.append(nn.Linear(hidden_dim, hidden_dim))\n",
        "            self.layers.append(nn.ReLU())\n",
        "        \n",
        "        # last layer\n",
        "        self.fc = nn.Linear(hidden_dim, 2)\n",
        "        \n",
        "    def forward(self, x):\n",
        "        pred = self.input(x)\n",
        "        for layer in self.layers:\n",
        "            pred = layer(pred)\n",
        "        return self.fc(pred)"
      ],
      "metadata": {
        "id": "A4P8l3d3AOcB"
      },
      "execution_count": null,
      "outputs": []
    },
    {
      "cell_type": "code",
      "source": [
        "def train(model, epochs, loss_function, optimizer):\n",
        "    training_loss = []\n",
        "    validation_loss = []\n",
        "    training_accuracy = []\n",
        "    validation_accuracy = []\n",
        "    running_train_loss = 0.0 \n",
        "    running_train_accuracy = 0.0 \n",
        "    running_val_loss = 0.0\n",
        "    running_val_accuracy = 0.0\n",
        "    model.train()   \n",
        "    for epoch in range(epochs):\n",
        "        with tqdm(train_dataloaders, unit=\"batch\") as tepoch:\n",
        "            for data, target in tepoch:\n",
        "                tepoch.set_description(f\"Epoch {epoch}\")\n",
        "                optimizer.zero_grad()\n",
        "                preds = model(data)\n",
        "                train_loss = loss_function(preds, target.long())\n",
        "                train_loss.backward()\n",
        "                optimizer.step()\n",
        "                tepoch.set_postfix(loss=train_loss.item())\n",
        "                running_train_loss +=train_loss.item()\n",
        "                training_loss.append(running_train_loss/len(train_dataloaders))\n",
        "                _, predicted = torch.max(preds, 1)\n",
        "                running_train_accuracy += (predicted == target.long()).sum().item()\n",
        "                training_accuracy.append(running_train_accuracy/len(train_dataloaders))\n",
        "                \n",
        "        with tqdm(validloader, unit=\"batch\") as tepoch:\n",
        "            for data, target in tepoch:    \n",
        "                tepoch.set_description(f\"Epoch {epoch}\")\n",
        "                optimizer.zero_grad()\n",
        "                preds = model(data)\n",
        "                valid_loss = loss_function(preds, target.long())\n",
        "                valid_loss.backward()\n",
        "                optimizer.step()\n",
        "                tepoch.set_postfix(loss=valid_loss.item())\n",
        "                running_val_loss += valid_loss.item()\n",
        "                validation_loss.append(running_val_loss/len(validloader))\n",
        "                _, predicted = torch.max(preds, 1)\n",
        "                running_val_accuracy += (predicted == target.long()).sum().item()\n",
        "                validation_accuracy.append(running_val_accuracy/len(validloader))\n",
        "    return(training_loss,validation_loss,training_accuracy,validation_accuracy )"
      ],
      "metadata": {
        "id": "N8wpj_kHGM69"
      },
      "execution_count": null,
      "outputs": []
    },
    {
      "cell_type": "code",
      "source": [
        "input_size = x_train.shape[1]\n",
        "model = NeuralNet(input_size, input_size)\n",
        "loss = nn.CrossEntropyLoss()\n",
        "model_optimizer = torch.optim.Adam(model.parameters(),  lr = 1e-4)\n",
        "epochs = 10"
      ],
      "metadata": {
        "id": "uKeiCQtPAdxm"
      },
      "execution_count": null,
      "outputs": []
    },
    {
      "cell_type": "code",
      "source": [
        "#Model Summary\n",
        "summary(model, (input_size, input_size))"
      ],
      "metadata": {
        "colab": {
          "base_uri": "https://localhost:8080/"
        },
        "id": "fLwty-_2FqDa",
        "outputId": "ea829272-3f39-49bf-f77a-76de26c435a3"
      },
      "execution_count": null,
      "outputs": [
        {
          "output_type": "stream",
          "name": "stdout",
          "text": [
            "----------------------------------------------------------------\n",
            "        Layer (type)               Output Shape         Param #\n",
            "================================================================\n",
            "            Linear-1               [-1, 30, 30]             930\n",
            "              ReLU-2               [-1, 30, 30]               0\n",
            "            Linear-3               [-1, 30, 30]             930\n",
            "              ReLU-4               [-1, 30, 30]               0\n",
            "            Linear-5               [-1, 30, 30]             930\n",
            "              ReLU-6               [-1, 30, 30]               0\n",
            "            Linear-7               [-1, 30, 30]             930\n",
            "              ReLU-8               [-1, 30, 30]               0\n",
            "            Linear-9               [-1, 30, 30]             930\n",
            "             ReLU-10               [-1, 30, 30]               0\n",
            "           Linear-11                [-1, 30, 2]              62\n",
            "================================================================\n",
            "Total params: 4,712\n",
            "Trainable params: 4,712\n",
            "Non-trainable params: 0\n",
            "----------------------------------------------------------------\n",
            "Input size (MB): 0.00\n",
            "Forward/backward pass size (MB): 0.07\n",
            "Params size (MB): 0.02\n",
            "Estimated Total Size (MB): 0.09\n",
            "----------------------------------------------------------------\n"
          ]
        }
      ]
    },
    {
      "cell_type": "code",
      "source": [
        "training_loss,validation_loss,training_accuracy,validation_accuracy = train(model, epochs, loss, model_optimizer)"
      ],
      "metadata": {
        "colab": {
          "base_uri": "https://localhost:8080/"
        },
        "id": "pe9K2TUqFx3b",
        "outputId": "62dfca9f-7c60-450a-b507-481a710ab69a"
      },
      "execution_count": null,
      "outputs": [
        {
          "output_type": "stream",
          "name": "stderr",
          "text": [
            "Epoch 0: 100%|██████████| 247/247 [00:06<00:00, 37.50batch/s, loss=0.132]\n",
            "Epoch 0: 100%|██████████| 91/91 [00:02<00:00, 38.95batch/s, loss=0.0699]\n",
            "Epoch 1: 100%|██████████| 247/247 [00:05<00:00, 44.86batch/s, loss=0.116]\n",
            "Epoch 1: 100%|██████████| 91/91 [00:01<00:00, 55.95batch/s, loss=0.0468]\n",
            "Epoch 2: 100%|██████████| 247/247 [00:04<00:00, 49.58batch/s, loss=0.102]\n",
            "Epoch 2: 100%|██████████| 91/91 [00:01<00:00, 46.58batch/s, loss=0.029]\n",
            "Epoch 3: 100%|██████████| 247/247 [00:04<00:00, 50.53batch/s, loss=0.0958]\n",
            "Epoch 3: 100%|██████████| 91/91 [00:01<00:00, 55.65batch/s, loss=0.0158]\n",
            "Epoch 4: 100%|██████████| 247/247 [00:04<00:00, 49.52batch/s, loss=0.0856]\n",
            "Epoch 4: 100%|██████████| 91/91 [00:01<00:00, 50.29batch/s, loss=0.00668]\n",
            "Epoch 5: 100%|██████████| 247/247 [00:04<00:00, 52.66batch/s, loss=0.0789]\n",
            "Epoch 5: 100%|██████████| 91/91 [00:01<00:00, 73.60batch/s, loss=0.00351]\n",
            "Epoch 6: 100%|██████████| 247/247 [00:03<00:00, 80.54batch/s, loss=0.0765]\n",
            "Epoch 6: 100%|██████████| 91/91 [00:01<00:00, 80.73batch/s, loss=0.0025]\n",
            "Epoch 7: 100%|██████████| 247/247 [00:03<00:00, 80.63batch/s, loss=0.0744]\n",
            "Epoch 7: 100%|██████████| 91/91 [00:01<00:00, 81.16batch/s, loss=0.00208]\n",
            "Epoch 8: 100%|██████████| 247/247 [00:03<00:00, 80.15batch/s, loss=0.0721]\n",
            "Epoch 8: 100%|██████████| 91/91 [00:01<00:00, 79.66batch/s, loss=0.00186]\n",
            "Epoch 9: 100%|██████████| 247/247 [00:03<00:00, 79.53batch/s, loss=0.0698]\n",
            "Epoch 9: 100%|██████████| 91/91 [00:01<00:00, 82.45batch/s, loss=0.00171]\n"
          ]
        }
      ]
    },
    {
      "cell_type": "code",
      "source": [
        "model.eval()\n"
      ],
      "metadata": {
        "colab": {
          "base_uri": "https://localhost:8080/"
        },
        "id": "GXQ_lLLHGkoN",
        "outputId": "3fe8b51b-fd0c-4164-e8d8-f8c2303d6cf8"
      },
      "execution_count": null,
      "outputs": [
        {
          "output_type": "execute_result",
          "data": {
            "text/plain": [
              "NeuralNet(\n",
              "  (input): Sequential(\n",
              "    (0): Linear(in_features=30, out_features=30, bias=True)\n",
              "    (1): ReLU()\n",
              "  )\n",
              "  (layers): ModuleList(\n",
              "    (0): Linear(in_features=30, out_features=30, bias=True)\n",
              "    (1): ReLU()\n",
              "    (2): Linear(in_features=30, out_features=30, bias=True)\n",
              "    (3): ReLU()\n",
              "    (4): Linear(in_features=30, out_features=30, bias=True)\n",
              "    (5): ReLU()\n",
              "    (6): Linear(in_features=30, out_features=30, bias=True)\n",
              "    (7): ReLU()\n",
              "  )\n",
              "  (fc): Linear(in_features=30, out_features=2, bias=True)\n",
              ")"
            ]
          },
          "metadata": {},
          "execution_count": 19
        }
      ]
    },
    {
      "cell_type": "code",
      "source": [
        "plt.title('Training Loss', fontsize=15)\n",
        "plt.plot(np.array(training_loss), 'r')\n"
      ],
      "metadata": {
        "id": "5Rk6Etxr0oHX",
        "colab": {
          "base_uri": "https://localhost:8080/",
          "height": 300
        },
        "outputId": "f33ab4f0-e59e-46a5-dcc7-3b25ee7c8755"
      },
      "execution_count": null,
      "outputs": [
        {
          "output_type": "execute_result",
          "data": {
            "text/plain": [
              "[<matplotlib.lines.Line2D at 0x7fbcd59ce910>]"
            ]
          },
          "metadata": {},
          "execution_count": 21
        },
        {
          "output_type": "display_data",
          "data": {
            "text/plain": [
              "<Figure size 432x288 with 1 Axes>"
            ],
            "image/png": "[encoded data removed]"
          },
          "metadata": {
            "needs_background": "light"
          }
        }
      ]
    },
    {
      "cell_type": "code",
      "source": [
        "plt.title('Validation Loss', fontsize=15)\n",
        "plt.plot(np.array(validation_loss), 'r')\n"
      ],
      "metadata": {
        "colab": {
          "base_uri": "https://localhost:8080/",
          "height": 300
        },
        "id": "LOdAeGL_RlrE",
        "outputId": "9dbe6917-c64e-41d6-88f1-be6503e73abc"
      },
      "execution_count": null,
      "outputs": [
        {
          "output_type": "execute_result",
          "data": {
            "text/plain": [
              "[<matplotlib.lines.Line2D at 0x7fbcd59ba610>]"
            ]
          },
          "metadata": {},
          "execution_count": 22
        },
        {
          "output_type": "display_data",
          "data": {
            "text/plain": [
              "<Figure size 432x288 with 1 Axes>"
            ],
            "image/png": "[encoded data removed]"
          },
          "metadata": {
            "needs_background": "light"
          }
        }
      ]
    },
    {
      "cell_type": "code",
      "source": [
        "plt.title('Training Accuracy', fontsize=15)\n",
        "plt.plot(np.array(training_accuracy), 'b')\n"
      ],
      "metadata": {
        "colab": {
          "base_uri": "https://localhost:8080/",
          "height": 300
        },
        "id": "tPfT_KrgRt_y",
        "outputId": "2890bf10-5b95-4125-e1b4-4edfdf2310dc"
      },
      "execution_count": null,
      "outputs": [
        {
          "output_type": "execute_result",
          "data": {
            "text/plain": [
              "[<matplotlib.lines.Line2D at 0x7fbcd58c4050>]"
            ]
          },
          "metadata": {},
          "execution_count": 23
        },
        {
          "output_type": "display_data",
          "data": {
            "text/plain": [
              "<Figure size 432x288 with 1 Axes>"
            ],
            "image/png": "[encoded data removed]"
          },
          "metadata": {
            "needs_background": "light"
          }
        }
      ]
    },
    {
      "cell_type": "code",
      "source": [
        "plt.title('Validation Accuracy', fontsize=15)\n",
        "plt.plot(np.array(validation_accuracy), 'b')\n"
      ],
      "metadata": {
        "id": "YI2gLb1ZR4Cq",
        "outputId": "702a5bb9-f4eb-485b-e336-f36161832fd9",
        "colab": {
          "base_uri": "https://localhost:8080/",
          "height": 300
        }
      },
      "execution_count": null,
      "outputs": [
        {
          "output_type": "execute_result",
          "data": {
            "text/plain": [
              "[<matplotlib.lines.Line2D at 0x7fbcd58302d0>]"
            ]
          },
          "metadata": {},
          "execution_count": 24
        },
        {
          "output_type": "display_data",
          "data": {
            "text/plain": [
              "<Figure size 432x288 with 1 Axes>"
            ],
            "image/png": "[encoded data removed]"
          },
          "metadata": {
            "needs_background": "light"
          }
        }
      ]
    },
    {
      "cell_type": "code",
      "source": [
        "preds = model(x_test).argmax(dim=1)\n",
        "print(metrics.classification_report(y_test, preds))"
      ],
      "metadata": {
        "colab": {
          "base_uri": "https://localhost:8080/"
        },
        "id": "fJFkc6b-0W4v",
        "outputId": "35655996-dd9c-4724-8317-9e7a4d1e71b5"
      },
      "execution_count": null,
      "outputs": [
        {
          "output_type": "stream",
          "name": "stdout",
          "text": [
            "              precision    recall  f1-score   support\n",
            "\n",
            "         0.0       1.00      1.00      1.00     14067\n",
            "         1.0       0.98      0.76      0.85       128\n",
            "\n",
            "    accuracy                           1.00     14195\n",
            "   macro avg       0.99      0.88      0.93     14195\n",
            "weighted avg       1.00      1.00      1.00     14195\n",
            "\n"
          ]
        }
      ]
    },
    {
      "cell_type": "code",
      "source": [
        "class_dict = {0 : \"Not Fraudulent\", 1 : \"Fraudulent\"}\n",
        "cm_df = pd.DataFrame(metrics.confusion_matrix(y_test, preds)).rename(columns=class_dict, index=class_dict)\n",
        "cm_df = cm_df / np.sum(cm_df)\n",
        "sns.heatmap(cm_df, annot=True, fmt='0.2%', cmap=\"YlGnBu\").set(title=\"Confusion Matrix\", xlabel=\"Predicted\", ylabel=\"True\")\n",
        "plt.show()"
      ],
      "metadata": {
        "colab": {
          "base_uri": "https://localhost:8080/",
          "height": 295
        },
        "id": "tiQGxnzr1D2q",
        "outputId": "4153b31c-1522-483d-832e-5e84ac5ea672"
      },
      "execution_count": null,
      "outputs": [
        {
          "output_type": "display_data",
          "data": {
            "text/plain": [
              "<Figure size 432x288 with 2 Axes>"
            ],
            "image/png": "[encoded data removed]"
          },
          "metadata": {
            "needs_background": "light"
          }
        }
      ]
    }
  ]
}